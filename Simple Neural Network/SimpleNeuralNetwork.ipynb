{
 "cells": [
  {
   "cell_type": "code",
   "execution_count": 79,
   "id": "29ecbb0f",
   "metadata": {},
   "outputs": [],
   "source": [
    "from random import randint\n",
    "from sklearn.utils import shuffle\n",
    "\n",
    "train_X = []\n",
    "train_label = []\n",
    "\n",
    "def generate_random_data(n_sample, min_age, max_age, label, X, label_data):\n",
    "    for i in range(n_sample):\n",
    "        X.append(randint(min_age, max_age))\n",
    "        label_data.append(label)\n",
    "\n",
    "generate_random_data(50, 1, 64, 1, train_X, train_label)\n",
    "generate_random_data(50, 65, 100, 0, train_X, train_label)\n",
    "generate_random_data(1000, 1, 64, 0, train_X, train_label)\n",
    "generate_random_data(1000, 65, 100, 1, train_X, train_label)\n",
    "\n",
    "train_X, train_label = shuffle(train_X, train_label)\n",
    "\n",
    "from sklearn.preprocessing import MinMaxScaler\n",
    "import numpy as np\n",
    "\n",
    "scaler = MinMaxScaler(feature_range=(0,1))\n",
    "train_X = np.array(train_X)\n",
    "train_y = np.array(train_label)\n",
    "train_X = scaler.fit_transform(train_X.reshape(-1,1))"
   ]
  },
  {
   "cell_type": "code",
   "execution_count": 80,
   "id": "c2af2521",
   "metadata": {},
   "outputs": [],
   "source": [
    "import tensorflow as tf\n",
    "from tensorflow.keras.models import Sequential\n",
    "from tensorflow.keras.layers import Dense, Activation\n",
    "from tensorflow.keras.optimizers import Adam\n",
    "from tensorflow.keras.metrics import categorical_crossentropy"
   ]
  },
  {
   "cell_type": "code",
   "execution_count": 81,
   "id": "6df2852a",
   "metadata": {},
   "outputs": [],
   "source": [
    "model = Sequential([\n",
    "    Dense(units=16, input_shape=(1,), activation='relu'),\n",
    "    Dense(units=32, activation='relu'),\n",
    "    Dense(units=2, activation='softmax')\n",
    "])"
   ]
  },
  {
   "cell_type": "code",
   "execution_count": 82,
   "id": "82ba7ce9",
   "metadata": {},
   "outputs": [
    {
     "name": "stdout",
     "output_type": "stream",
     "text": [
      "Model: \"sequential_9\"\n",
      "_________________________________________________________________\n",
      " Layer (type)                Output Shape              Param #   \n",
      "=================================================================\n",
      " dense_27 (Dense)            (None, 16)                32        \n",
      "                                                                 \n",
      " dense_28 (Dense)            (None, 32)                544       \n",
      "                                                                 \n",
      " dense_29 (Dense)            (None, 2)                 66        \n",
      "                                                                 \n",
      "=================================================================\n",
      "Total params: 642 (2.51 KB)\n",
      "Trainable params: 642 (2.51 KB)\n",
      "Non-trainable params: 0 (0.00 Byte)\n",
      "_________________________________________________________________\n"
     ]
    }
   ],
   "source": [
    "model.summary()"
   ]
  },
  {
   "cell_type": "code",
   "execution_count": 83,
   "id": "93b09ec5",
   "metadata": {},
   "outputs": [],
   "source": [
    "model.compile(optimizer=Adam(learning_rate=0.0001), loss='sparse_categorical_crossentropy', metrics=['accuracy'])"
   ]
  },
  {
   "cell_type": "code",
   "execution_count": 84,
   "id": "e5137399",
   "metadata": {},
   "outputs": [
    {
     "name": "stdout",
     "output_type": "stream",
     "text": [
      "Epoch 1/30\n",
      "189/189 - 1s - loss: 0.6922 - accuracy: 0.5481 - val_loss: 0.6861 - val_accuracy: 0.4952 - 1s/epoch - 6ms/step\n",
      "Epoch 2/30\n",
      "189/189 - 0s - loss: 0.6705 - accuracy: 0.5894 - val_loss: 0.6704 - val_accuracy: 0.5619 - 197ms/epoch - 1ms/step\n",
      "Epoch 3/30\n",
      "189/189 - 0s - loss: 0.6444 - accuracy: 0.6593 - val_loss: 0.6500 - val_accuracy: 0.6381 - 186ms/epoch - 984us/step\n",
      "Epoch 4/30\n",
      "189/189 - 0s - loss: 0.6176 - accuracy: 0.7323 - val_loss: 0.6250 - val_accuracy: 0.7286 - 191ms/epoch - 1ms/step\n",
      "Epoch 5/30\n",
      "189/189 - 0s - loss: 0.5905 - accuracy: 0.7688 - val_loss: 0.6034 - val_accuracy: 0.7429 - 185ms/epoch - 980us/step\n",
      "Epoch 6/30\n",
      "189/189 - 0s - loss: 0.5640 - accuracy: 0.7889 - val_loss: 0.5809 - val_accuracy: 0.7476 - 186ms/epoch - 985us/step\n",
      "Epoch 7/30\n",
      "189/189 - 0s - loss: 0.5361 - accuracy: 0.8032 - val_loss: 0.5546 - val_accuracy: 0.7667 - 189ms/epoch - 999us/step\n",
      "Epoch 8/30\n",
      "189/189 - 0s - loss: 0.5078 - accuracy: 0.8360 - val_loss: 0.5306 - val_accuracy: 0.7714 - 204ms/epoch - 1ms/step\n",
      "Epoch 9/30\n",
      "189/189 - 0s - loss: 0.4799 - accuracy: 0.8444 - val_loss: 0.5049 - val_accuracy: 0.8048 - 186ms/epoch - 982us/step\n",
      "Epoch 10/30\n",
      "189/189 - 0s - loss: 0.4521 - accuracy: 0.8630 - val_loss: 0.4797 - val_accuracy: 0.8238 - 194ms/epoch - 1ms/step\n",
      "Epoch 11/30\n",
      "189/189 - 0s - loss: 0.4258 - accuracy: 0.8714 - val_loss: 0.4568 - val_accuracy: 0.8286 - 194ms/epoch - 1ms/step\n",
      "Epoch 12/30\n",
      "189/189 - 0s - loss: 0.4027 - accuracy: 0.8852 - val_loss: 0.4379 - val_accuracy: 0.8286 - 190ms/epoch - 1ms/step\n",
      "Epoch 13/30\n",
      "189/189 - 0s - loss: 0.3823 - accuracy: 0.8974 - val_loss: 0.4224 - val_accuracy: 0.8333 - 204ms/epoch - 1ms/step\n",
      "Epoch 14/30\n",
      "189/189 - 0s - loss: 0.3649 - accuracy: 0.8995 - val_loss: 0.4072 - val_accuracy: 0.8429 - 208ms/epoch - 1ms/step\n",
      "Epoch 15/30\n",
      "189/189 - 0s - loss: 0.3498 - accuracy: 0.9021 - val_loss: 0.3938 - val_accuracy: 0.8476 - 183ms/epoch - 969us/step\n",
      "Epoch 16/30\n",
      "189/189 - 0s - loss: 0.3371 - accuracy: 0.9079 - val_loss: 0.3845 - val_accuracy: 0.8524 - 189ms/epoch - 999us/step\n",
      "Epoch 17/30\n",
      "189/189 - 0s - loss: 0.3259 - accuracy: 0.9111 - val_loss: 0.3774 - val_accuracy: 0.8524 - 197ms/epoch - 1ms/step\n",
      "Epoch 18/30\n",
      "189/189 - 0s - loss: 0.3167 - accuracy: 0.9111 - val_loss: 0.3699 - val_accuracy: 0.8524 - 199ms/epoch - 1ms/step\n",
      "Epoch 19/30\n",
      "189/189 - 0s - loss: 0.3089 - accuracy: 0.9138 - val_loss: 0.3640 - val_accuracy: 0.8571 - 189ms/epoch - 1ms/step\n",
      "Epoch 20/30\n",
      "189/189 - 0s - loss: 0.3021 - accuracy: 0.9185 - val_loss: 0.3586 - val_accuracy: 0.8571 - 195ms/epoch - 1ms/step\n",
      "Epoch 21/30\n",
      "189/189 - 0s - loss: 0.2962 - accuracy: 0.9138 - val_loss: 0.3534 - val_accuracy: 0.8619 - 191ms/epoch - 1ms/step\n",
      "Epoch 22/30\n",
      "189/189 - 0s - loss: 0.2915 - accuracy: 0.9233 - val_loss: 0.3524 - val_accuracy: 0.8571 - 190ms/epoch - 1ms/step\n",
      "Epoch 23/30\n",
      "189/189 - 0s - loss: 0.2871 - accuracy: 0.9201 - val_loss: 0.3484 - val_accuracy: 0.8619 - 189ms/epoch - 999us/step\n",
      "Epoch 24/30\n",
      "189/189 - 0s - loss: 0.2836 - accuracy: 0.9254 - val_loss: 0.3472 - val_accuracy: 0.8619 - 189ms/epoch - 1000us/step\n",
      "Epoch 25/30\n",
      "189/189 - 0s - loss: 0.2804 - accuracy: 0.9212 - val_loss: 0.3439 - val_accuracy: 0.8619 - 186ms/epoch - 986us/step\n",
      "Epoch 26/30\n",
      "189/189 - 0s - loss: 0.2776 - accuracy: 0.9265 - val_loss: 0.3423 - val_accuracy: 0.8619 - 186ms/epoch - 982us/step\n",
      "Epoch 27/30\n",
      "189/189 - 0s - loss: 0.2750 - accuracy: 0.9265 - val_loss: 0.3423 - val_accuracy: 0.8619 - 193ms/epoch - 1ms/step\n",
      "Epoch 28/30\n",
      "189/189 - 0s - loss: 0.2729 - accuracy: 0.9265 - val_loss: 0.3413 - val_accuracy: 0.8619 - 186ms/epoch - 985us/step\n",
      "Epoch 29/30\n",
      "189/189 - 0s - loss: 0.2706 - accuracy: 0.9286 - val_loss: 0.3408 - val_accuracy: 0.8619 - 188ms/epoch - 996us/step\n",
      "Epoch 30/30\n",
      "189/189 - 0s - loss: 0.2688 - accuracy: 0.9259 - val_loss: 0.3370 - val_accuracy: 0.8714 - 186ms/epoch - 983us/step\n"
     ]
    },
    {
     "data": {
      "text/plain": [
       "<keras.src.callbacks.History at 0x1438e5280>"
      ]
     },
     "execution_count": 84,
     "metadata": {},
     "output_type": "execute_result"
    }
   ],
   "source": [
    "model.fit(x=train_X, y=train_y, validation_split=0.1, batch_size=10, epochs=30, shuffle=True, verbose=2)"
   ]
  },
  {
   "cell_type": "code",
   "execution_count": 85,
   "id": "56a3131f",
   "metadata": {},
   "outputs": [],
   "source": [
    "test_sample = []\n",
    "test_label = []\n",
    "\n",
    "generate_random_data(50, 1, 64, 1, test_sample, test_label)\n",
    "generate_random_data(50, 65, 100, 0, test_sample, test_label)\n",
    "generate_random_data(1000, 1, 64, 0, test_sample, test_label)\n",
    "generate_random_data(1000, 65, 100, 1, test_sample, test_label)\n",
    "\n",
    "test_sample, test_label = shuffle(test_sample, test_label)\n",
    "test_sample = np.array(test_sample)\n",
    "test_sample = scaler.fit_transform(test_sample.reshape(-1,1))"
   ]
  },
  {
   "cell_type": "code",
   "execution_count": 86,
   "id": "61804435",
   "metadata": {},
   "outputs": [],
   "source": [
    "predictions = model.predict(x=test_sample, batch_size=10, verbose=0)"
   ]
  },
  {
   "cell_type": "code",
   "execution_count": 87,
   "id": "12b251b9",
   "metadata": {},
   "outputs": [],
   "source": [
    "rounded_predictions = np.argmax(predictions, axis=-1)"
   ]
  },
  {
   "cell_type": "code",
   "execution_count": 111,
   "id": "7e4b28e1",
   "metadata": {},
   "outputs": [
    {
     "data": {
      "text/plain": [
       "0.9295238095238095"
      ]
     },
     "execution_count": 111,
     "metadata": {},
     "output_type": "execute_result"
    }
   ],
   "source": [
    "from sklearn.metrics import accuracy_score, confusion_matrix\n",
    "\n",
    "accuracy_score(test_label, rounded_predictions)"
   ]
  },
  {
   "cell_type": "code",
   "execution_count": 112,
   "id": "f864cc4a",
   "metadata": {},
   "outputs": [
    {
     "data": {
      "text/plain": [
       "array([[ 948,  102],\n",
       "       [  46, 1004]])"
      ]
     },
     "execution_count": 112,
     "metadata": {},
     "output_type": "execute_result"
    }
   ],
   "source": [
    "confusion_matrix(test_label, rounded_predictions)"
   ]
  },
  {
   "cell_type": "code",
   "execution_count": 116,
   "id": "cac04f81",
   "metadata": {},
   "outputs": [],
   "source": [
    "model.save('models/medical_trial_model.h5')"
   ]
  },
  {
   "cell_type": "markdown",
   "id": "7e06ee28",
   "metadata": {},
   "source": [
    "The above .save() method saves:\n",
    "* The architecture of the model, allowing re-create the model with same architecture.\n",
    "* The weights of the model.\n",
    "* The training configuration (loss, optimizer).\n",
    "* The state of the optimizer, allowing to resume training exactly where you left off."
   ]
  },
  {
   "cell_type": "code",
   "execution_count": 117,
   "id": "595b6d46",
   "metadata": {},
   "outputs": [],
   "source": [
    "from tensorflow.keras.models import load_model\n",
    "\n",
    "loaded_model = load_model(\"models/medical_trial_model.h5\")"
   ]
  },
  {
   "cell_type": "code",
   "execution_count": 118,
   "id": "0f82623f",
   "metadata": {},
   "outputs": [
    {
     "data": {
      "text/plain": [
       "[<tf.Variable 'dense_30/kernel:0' shape=(1, 16) dtype=float32, numpy=\n",
       " array([[ 0.3709432 ,  0.42154488,  0.3886046 , -0.5234844 ,  0.02905918,\n",
       "         -0.10985295,  0.33868766, -0.4860571 , -0.48520374,  0.44651908,\n",
       "          0.18116567,  0.3695966 ,  0.26110223,  0.0327641 , -0.35487503,\n",
       "          0.4570869 ]], dtype=float32)>,\n",
       " <tf.Variable 'dense_30/bias:0' shape=(16,) dtype=float32, numpy=\n",
       " array([-0.1263436 , -0.12353495, -0.08085185,  0.        ,  0.18634692,\n",
       "         0.1669892 ,  0.17672668,  0.        ,  0.        , -0.11594213,\n",
       "        -0.07434864, -0.11952471, -0.08741551,  0.1457539 ,  0.        ,\n",
       "        -0.14016841], dtype=float32)>,\n",
       " <tf.Variable 'dense_31/kernel:0' shape=(16, 32) dtype=float32, numpy=\n",
       " array([[ 0.09829018, -0.09334318, -0.32674733, -0.4859526 ,  0.3255262 ,\n",
       "          0.02911621,  0.41365817,  0.23851615,  0.17792852, -0.37242156,\n",
       "         -0.32920295, -0.03259487,  0.08516192, -0.05380398,  0.10060468,\n",
       "         -0.02256223,  0.25514528, -0.01873192,  0.5680716 , -0.2503093 ,\n",
       "         -0.08197224,  0.17024243,  0.09114548, -0.22156915,  0.07967719,\n",
       "          0.06037617, -0.3130098 ,  0.37296504, -0.02968076, -0.27508226,\n",
       "         -0.25830707,  0.2798361 ],\n",
       "        [ 0.08890364,  0.12112193, -0.13213542,  0.08352398,  0.19855723,\n",
       "         -0.25209028,  0.3633492 , -0.22519906,  0.28676108, -0.19682764,\n",
       "          0.02598061, -0.07107053, -0.26206547,  0.16711351,  0.6067457 ,\n",
       "         -0.29121467,  0.09556249,  0.09170032,  0.43336934,  0.133842  ,\n",
       "          0.45596376, -0.08690475, -0.01279261, -0.22146998,  0.00838789,\n",
       "          0.04154233, -0.01363036,  0.35050863, -0.23491675, -0.3207405 ,\n",
       "         -0.4476255 , -0.17924759],\n",
       "        [ 0.19788314, -0.40800342, -0.20076272, -0.25005022,  0.31859162,\n",
       "         -0.04021933,  0.11921787,  0.12503383,  0.49285814,  0.08874361,\n",
       "         -0.21076453, -0.09445345,  0.11160973, -0.19612437,  0.14756732,\n",
       "          0.01897817, -0.1342775 , -0.3315287 ,  0.35820827,  0.15677904,\n",
       "          0.26500916,  0.45121846,  0.2544704 , -0.15834306, -0.23860392,\n",
       "         -0.2717055 , -0.30026335,  0.13723682, -0.14285111,  0.24699876,\n",
       "         -0.16362335, -0.19115922],\n",
       "        [-0.09403983, -0.21293448, -0.08339471,  0.33032796,  0.30208346,\n",
       "          0.25184092,  0.02808514, -0.30781412, -0.06515136,  0.2465786 ,\n",
       "          0.34391096, -0.28271616, -0.2788115 ,  0.2660711 , -0.3132143 ,\n",
       "          0.22087893, -0.30999935,  0.33053705,  0.00836161,  0.26700357,\n",
       "          0.08032221,  0.33534256, -0.10686022,  0.04294276, -0.34461   ,\n",
       "         -0.11216667, -0.0815593 , -0.19562922,  0.12939486, -0.06662616,\n",
       "          0.19788113,  0.28329465],\n",
       "        [-0.18238571,  0.2492058 , -0.00254653,  0.1854347 , -0.09959823,\n",
       "          0.21643572, -0.10286834, -0.30426672,  0.24214822,  0.3849565 ,\n",
       "          0.37646177,  0.33251742,  0.06247377,  0.23647746, -0.03524667,\n",
       "          0.2528537 ,  0.07695097, -0.01079261, -0.04911259,  0.11505779,\n",
       "          0.2129076 ,  0.04453456,  0.31011704,  0.14994507, -0.20447013,\n",
       "         -0.3441415 ,  0.26086047,  0.01064934,  0.13240527, -0.19801979,\n",
       "          0.40857515,  0.08160186],\n",
       "        [-0.4284049 ,  0.15785728,  0.10900142,  0.3631552 ,  0.29278407,\n",
       "          0.5853562 ,  0.00967441, -0.37546518, -0.3544567 , -0.01281463,\n",
       "          0.31095746,  0.13736357, -0.02931136, -0.33875132, -0.47672603,\n",
       "          0.17380707, -0.12693173, -0.18140973, -0.4041826 ,  0.32294142,\n",
       "         -0.05705814, -0.39594993, -0.08007496,  0.26698735, -0.330945  ,\n",
       "         -0.16644695, -0.21046045,  0.12689814, -0.3606859 , -0.12637122,\n",
       "          0.40850952,  0.3407865 ],\n",
       "        [ 0.43344334,  0.00925255, -0.2082388 ,  0.2869366 , -0.24197416,\n",
       "          0.16365516,  0.4329494 ,  0.14398997, -0.16715062,  0.05328305,\n",
       "          0.3265444 ,  0.16078229, -0.27709815, -0.13354187,  0.45766488,\n",
       "          0.0516936 , -0.3169383 , -0.29959995, -0.03038414,  0.2683293 ,\n",
       "          0.30894652,  0.17277822,  0.14229183,  0.33717924, -0.09773499,\n",
       "          0.32365942, -0.24352178, -0.19886452, -0.04583155,  0.12748325,\n",
       "         -0.11439416, -0.2582055 ],\n",
       "        [-0.12555976,  0.19472107,  0.20410338, -0.08089682, -0.08314696,\n",
       "         -0.29333186,  0.2857704 , -0.20642169,  0.2910237 ,  0.27209684,\n",
       "          0.08539197,  0.18163338, -0.09545392,  0.2290453 ,  0.33893123,\n",
       "          0.08994314, -0.25044018, -0.05568618, -0.14513782,  0.03855139,\n",
       "         -0.25550818,  0.26200393,  0.12555403,  0.21457627,  0.0837447 ,\n",
       "         -0.2957778 , -0.13986523, -0.11518286, -0.26764494,  0.02292004,\n",
       "          0.20325771,  0.04498056],\n",
       "        [ 0.14502418,  0.21666136,  0.28242096,  0.32118014,  0.0106141 ,\n",
       "         -0.15085655,  0.05460578, -0.34318662,  0.32109895,  0.21500912,\n",
       "          0.07582143,  0.34949574,  0.327682  , -0.1913665 , -0.12943667,\n",
       "         -0.19695778, -0.2925786 , -0.35133538,  0.05645257, -0.34441537,\n",
       "         -0.27478024,  0.22483954, -0.05751577, -0.31153694,  0.32079473,\n",
       "         -0.0415481 , -0.07635719,  0.3244917 ,  0.14832446,  0.22875193,\n",
       "          0.29596922,  0.318323  ],\n",
       "        [ 0.39340532, -0.0153471 , -0.02124447, -0.4476153 , -0.14128458,\n",
       "         -0.38125223,  0.20838678,  0.3041631 ,  0.4979897 , -0.04214251,\n",
       "         -0.51077515, -0.5029743 ,  0.3218449 , -0.16110076,  0.6022005 ,\n",
       "         -0.12928206, -0.15343104,  0.15750465, -0.10667957,  0.15950207,\n",
       "          0.4855639 ,  0.4470323 ,  0.55622196, -0.47243312, -0.29404634,\n",
       "         -0.26560095,  0.2221711 ,  0.44527084, -0.0915332 ,  0.09814811,\n",
       "          0.07422624, -0.05373865],\n",
       "        [ 0.5105093 ,  0.02296112,  0.24169204, -0.52859914, -0.21890044,\n",
       "         -0.5667576 ,  0.2758468 ,  0.17827792,  0.59156686, -0.53390294,\n",
       "         -0.29414022,  0.07033872,  0.20501974, -0.09345186,  0.20335929,\n",
       "         -0.21695355,  0.22144976, -0.18441142,  0.23195085, -0.12403765,\n",
       "          0.01642261,  0.26753423,  0.09175065, -0.25150257,  0.18143055,\n",
       "          0.10645057, -0.21047579,  0.4025284 ,  0.2763416 , -0.29095328,\n",
       "         -0.45245588, -0.12270962],\n",
       "        [ 0.1903599 , -0.15983596, -0.29763228, -0.3934857 , -0.24794729,\n",
       "         -0.54179305,  0.08930087,  0.00835618,  0.5020226 , -0.5057687 ,\n",
       "         -0.51736826, -0.39617416, -0.19160488, -0.24897617,  0.5246696 ,\n",
       "         -0.5088603 , -0.10969426, -0.25923422,  0.3915031 , -0.13462132,\n",
       "          0.47607523,  0.1854859 ,  0.02380784, -0.33768612,  0.26771012,\n",
       "         -0.2339314 ,  0.04286209,  0.3818073 ,  0.13032103, -0.3293185 ,\n",
       "         -0.47809586, -0.19485962],\n",
       "        [ 0.4038783 , -0.1210504 ,  0.2294918 , -0.28075615,  0.24657997,\n",
       "         -0.03431407,  0.48276496, -0.24276274,  0.18982118, -0.17505449,\n",
       "          0.06011176, -0.24592945,  0.23328432,  0.28759316,  0.06526674,\n",
       "         -0.38051593,  0.34008613,  0.08535007,  0.60832727, -0.27463558,\n",
       "          0.5133986 ,  0.36168423,  0.6233921 , -0.2902457 , -0.26010412,\n",
       "          0.18155268, -0.06037605,  0.49382776,  0.25444517,  0.20788114,\n",
       "         -0.06128497,  0.33087358],\n",
       "        [ 0.19751652,  0.09512112,  0.12655973, -0.06808337, -0.16254833,\n",
       "         -0.1212121 , -0.29506534, -0.16323324,  0.41362256,  0.20445392,\n",
       "         -0.02787206,  0.07368995,  0.19179663, -0.1172151 ,  0.01288588,\n",
       "          0.41969338, -0.21592487, -0.06386369,  0.2386047 , -0.16398904,\n",
       "         -0.05438356, -0.2172639 ,  0.2340929 ,  0.07805912, -0.04178742,\n",
       "         -0.33348322,  0.07832813,  0.07205837,  0.06220705, -0.11203794,\n",
       "          0.0537011 , -0.29073974],\n",
       "        [-0.03391978, -0.3180526 ,  0.19604751, -0.04639947, -0.33096823,\n",
       "         -0.01709688, -0.33945763, -0.05765951, -0.27959764,  0.28047207,\n",
       "         -0.16485158, -0.09100804,  0.18157753, -0.27130744, -0.35061136,\n",
       "         -0.08168042, -0.06057742, -0.01448375,  0.32668778,  0.21966651,\n",
       "         -0.30426383, -0.04309329, -0.11907294,  0.27882805,  0.1551235 ,\n",
       "          0.17480513, -0.21894512, -0.31739375, -0.2912466 ,  0.10549313,\n",
       "         -0.02883503,  0.33453867],\n",
       "        [ 0.10258471, -0.28716642,  0.2776297 , -0.01367477, -0.20918341,\n",
       "         -0.24371397,  0.06050894, -0.24746042,  0.14882137, -0.3910823 ,\n",
       "         -0.4350396 ,  0.11088115, -0.24439397, -0.08917269,  0.41909325,\n",
       "         -0.42362797, -0.1159679 , -0.28462222,  0.31506017,  0.12138466,\n",
       "          0.19860701,  0.2110087 ,  0.33434635, -0.1450179 ,  0.11627725,\n",
       "          0.10230432,  0.16160372,  0.55770075,  0.16756727,  0.24664688,\n",
       "         -0.01317939, -0.09696674]], dtype=float32)>,\n",
       " <tf.Variable 'dense_31/bias:0' shape=(32,) dtype=float32, numpy=\n",
       " array([-0.08983117,  0.10247736, -0.00313314,  0.19215034,  0.        ,\n",
       "         0.20209306, -0.09248905, -0.00950522, -0.07963356,  0.19384208,\n",
       "         0.18374534,  0.08776665,  0.        ,  0.        , -0.09593326,\n",
       "         0.17949703,  0.        ,  0.        , -0.04353536,  0.06855592,\n",
       "        -0.10418049, -0.05131802, -0.12306838,  0.1656211 ,  0.        ,\n",
       "        -0.00109111,  0.        , -0.0428875 , -0.00561039, -0.00359019,\n",
       "         0.2083998 ,  0.        ], dtype=float32)>,\n",
       " <tf.Variable 'dense_32/kernel:0' shape=(32, 2) dtype=float32, numpy=\n",
       " array([[-0.6123708 ,  0.02858333],\n",
       "        [ 0.37178233, -0.606269  ],\n",
       "        [-0.3327221 , -0.25474876],\n",
       "        [ 0.61647815, -0.73920244],\n",
       "        [-0.23429385, -0.1957681 ],\n",
       "        [ 0.6663506 , -0.3795717 ],\n",
       "        [-0.39812717,  0.20198074],\n",
       "        [-0.09143437, -0.22944485],\n",
       "        [-0.50681734,  0.00311943],\n",
       "        [ 0.5352739 , -0.73287964],\n",
       "        [ 0.5236681 , -0.45542878],\n",
       "        [ 0.34395745, -0.51392466],\n",
       "        [ 0.37646154,  0.03616026],\n",
       "        [ 0.19657096,  0.10156962],\n",
       "        [-0.5460615 , -0.11731497],\n",
       "        [ 0.5584147 , -0.814613  ],\n",
       "        [ 0.0869579 , -0.36618388],\n",
       "        [ 0.16028497, -0.36850378],\n",
       "        [-0.3841376 ,  0.1342645 ],\n",
       "        [ 0.11565404,  0.0168031 ],\n",
       "        [-0.42759436,  0.44699484],\n",
       "        [-0.6213207 ,  0.6126646 ],\n",
       "        [-0.15868653,  0.28959244],\n",
       "        [ 0.7406695 , -0.76832706],\n",
       "        [ 0.35790756,  0.33403024],\n",
       "        [-0.21546525,  0.09748048],\n",
       "        [-0.4100427 ,  0.2078416 ],\n",
       "        [ 0.06473136,  0.641682  ],\n",
       "        [ 0.19004357, -0.2542376 ],\n",
       "        [-0.15982956, -0.01748331],\n",
       "        [ 0.74823564, -0.06323774],\n",
       "        [ 0.27793124, -0.09657025]], dtype=float32)>,\n",
       " <tf.Variable 'dense_32/bias:0' shape=(2,) dtype=float32, numpy=array([ 0.08894484, -0.08894484], dtype=float32)>]"
      ]
     },
     "execution_count": 118,
     "metadata": {},
     "output_type": "execute_result"
    }
   ],
   "source": [
    "loaded_model.weights"
   ]
  },
  {
   "cell_type": "code",
   "execution_count": 119,
   "id": "1e96bcb0",
   "metadata": {},
   "outputs": [
    {
     "data": {
      "text/plain": [
       "<keras.src.optimizers.adam.Adam at 0x14628aa60>"
      ]
     },
     "execution_count": 119,
     "metadata": {},
     "output_type": "execute_result"
    }
   ],
   "source": [
    "loaded_model.optimizer"
   ]
  },
  {
   "cell_type": "code",
   "execution_count": null,
   "id": "bcb3bb1e",
   "metadata": {},
   "outputs": [],
   "source": []
  }
 ],
 "metadata": {
  "kernelspec": {
   "display_name": "Python 3 (ipykernel)",
   "language": "python",
   "name": "python3"
  },
  "language_info": {
   "codemirror_mode": {
    "name": "ipython",
    "version": 3
   },
   "file_extension": ".py",
   "mimetype": "text/x-python",
   "name": "python",
   "nbconvert_exporter": "python",
   "pygments_lexer": "ipython3",
   "version": "3.9.0"
  },
  "varInspector": {
   "cols": {
    "lenName": 16,
    "lenType": 16,
    "lenVar": 40
   },
   "kernels_config": {
    "python": {
     "delete_cmd_postfix": "",
     "delete_cmd_prefix": "del ",
     "library": "var_list.py",
     "varRefreshCmd": "print(var_dic_list())"
    },
    "r": {
     "delete_cmd_postfix": ") ",
     "delete_cmd_prefix": "rm(",
     "library": "var_list.r",
     "varRefreshCmd": "cat(var_dic_list()) "
    }
   },
   "types_to_exclude": [
    "module",
    "function",
    "builtin_function_or_method",
    "instance",
    "_Feature"
   ],
   "window_display": false
  }
 },
 "nbformat": 4,
 "nbformat_minor": 5
}
